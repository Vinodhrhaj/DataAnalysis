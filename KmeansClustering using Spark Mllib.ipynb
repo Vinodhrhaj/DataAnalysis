{
 "cells": [
  {
   "cell_type": "markdown",
   "metadata": {},
   "source": [
    "# Kmeans Clustering using Spark Mllib"
   ]
  },
  {
   "cell_type": "markdown",
   "metadata": {},
   "source": [
    "Import the necessary Pyspark functions. Since we have already defined the Spark Context,sc is the keyword which will populate it."
   ]
  },
  {
   "cell_type": "code",
   "execution_count": 1,
   "metadata": {},
   "outputs": [
    {
     "data": {
      "text/plain": [
       "<pyspark.context.SparkContext at 0x7f3261bc9550>"
      ]
     },
     "execution_count": 1,
     "metadata": {},
     "output_type": "execute_result"
    }
   ],
   "source": [
    "from pyspark.mllib.clustering import KMeans, KMeansModel\n",
    "from numpy import array\n",
    "from math import sqrt\n",
    "from pyspark import SparkContext, SparkConf\n",
    "conf = SparkConf().setAppName('vinodh_kmeans')\n",
    "sc"
   ]
  },
  {
   "cell_type": "markdown",
   "metadata": {},
   "source": [
    "Load the dataset from Cloudera. It is important to load a dataset with values that can be clustered and since we are using numpy, sqrt be sure to use a numeric dataset.  "
   ]
  },
  {
   "cell_type": "code",
   "execution_count": 2,
   "metadata": {},
   "outputs": [],
   "source": [
    "#Load and Parse the data\n",
    "data = sc.textFile('iris_data.csv')\n",
    "parsedData1 = data.map(lambda line: array([x for x in line.split(',')]))"
   ]
  },
  {
   "cell_type": "code",
   "execution_count": 3,
   "metadata": {},
   "outputs": [
    {
     "data": {
      "text/plain": [
       "PythonRDD[2] at RDD at PythonRDD.scala:43"
      ]
     },
     "execution_count": 3,
     "metadata": {},
     "output_type": "execute_result"
    }
   ],
   "source": [
    "parsedData1"
   ]
  },
  {
   "cell_type": "markdown",
   "metadata": {},
   "source": [
    "Check the first five rows to make sure the data is loaded properly"
   ]
  },
  {
   "cell_type": "code",
   "execution_count": 4,
   "metadata": {},
   "outputs": [
    {
     "data": {
      "text/plain": [
       "[array([u'5.1', u'3.5', u'1.4', u'0.2', u'Iris-setosa'], \n",
       "       dtype='<U11'), array([u'4.9', u'3.0', u'1.4', u'0.2', u'Iris-setosa'], \n",
       "       dtype='<U11'), array([u'4.7', u'3.2', u'1.3', u'0.2', u'Iris-setosa'], \n",
       "       dtype='<U11'), array([u'7.6', u'3.1', u'1.5', u'0.2', u'Iris-setosa'], \n",
       "       dtype='<U11'), array([u'5.0', u'3.6', u'1.4', u'0.2', u'Iris-setosa'], \n",
       "       dtype='<U11')]"
      ]
     },
     "execution_count": 4,
     "metadata": {},
     "output_type": "execute_result"
    }
   ],
   "source": [
    "parsedData1.take(5)"
   ]
  },
  {
   "cell_type": "code",
   "execution_count": 5,
   "metadata": {
    "collapsed": true
   },
   "outputs": [],
   "source": [
    "#Take only the parameters we use to predict the class\n",
    "params_only =  parsedData1.map(lambda x : array([float(x[0]),float(x[1]),float(x[2]),float(x[3])]))\n"
   ]
  },
  {
   "cell_type": "code",
   "execution_count": 6,
   "metadata": {},
   "outputs": [
    {
     "data": {
      "text/plain": [
       "PythonRDD[4] at RDD at PythonRDD.scala:43"
      ]
     },
     "execution_count": 6,
     "metadata": {},
     "output_type": "execute_result"
    }
   ],
   "source": [
    "#Check the contents\n",
    "params_only"
   ]
  },
  {
   "cell_type": "code",
   "execution_count": 7,
   "metadata": {},
   "outputs": [
    {
     "data": {
      "text/plain": [
       "[array([ 5.1,  3.5,  1.4,  0.2]),\n",
       " array([ 4.9,  3. ,  1.4,  0.2]),\n",
       " array([ 4.7,  3.2,  1.3,  0.2]),\n",
       " array([ 7.6,  3.1,  1.5,  0.2]),\n",
       " array([ 5. ,  3.6,  1.4,  0.2])]"
      ]
     },
     "execution_count": 7,
     "metadata": {},
     "output_type": "execute_result"
    }
   ],
   "source": [
    "params_only.take(5)"
   ]
  },
  {
   "cell_type": "markdown",
   "metadata": {},
   "source": [
    "Evaluate clustering by computing Within Set Sum of Squared Errors(WSSSE)"
   ]
  },
  {
   "cell_type": "code",
   "execution_count": 2,
   "metadata": {},
   "outputs": [],
   "source": [
    "from pyspark.mllib.clustering import KMeans, KMeansModel"
   ]
  },
  {
   "cell_type": "code",
   "execution_count": 3,
   "metadata": {},
   "outputs": [],
   "source": [
    "\n",
    "def error(point):\n",
    "    center = clusters.centers[clusters.predict(point)]\n",
    "    return sqrt(sum([x**2 for x in (point - center)]))"
   ]
  },
  {
   "cell_type": "code",
   "execution_count": 1,
   "metadata": {},
   "outputs": [],
   "source": []
  },
  {
   "cell_type": "code",
   "execution_count": 12,
   "metadata": {},
   "outputs": [
    {
     "name": "stdout",
     "output_type": "stream",
     "text": [
      "Within Set sum of square error = 140.891195804\n"
     ]
    }
   ],
   "source": [
    "WSSSE = (params_only.map(lambda point: error(point)).reduce(lambda x, y: x + y))\n",
    "print (\"Within Set sum of square error = \" + str(WSSSE))"
   ]
  },
  {
   "cell_type": "markdown",
   "metadata": {},
   "source": [
    "Repeat with a number of clusters specified within a range"
   ]
  },
  {
   "cell_type": "code",
   "execution_count": 14,
   "metadata": {},
   "outputs": [
    {
     "name": "stdout",
     "output_type": "stream",
     "text": [
      "With1cluster : Within set sum of squared error = 298.709116551\n",
      "With2cluster : Within set sum of squared error = 140.891195804\n",
      "With3cluster : Within set sum of squared error = 110.27617199\n",
      "With4cluster : Within set sum of squared error = 105.358601825\n",
      "With5cluster : Within set sum of squared error = 93.432614554\n",
      "With6cluster : Within set sum of squared error = 89.2326694169\n",
      "With7cluster : Within set sum of squared error = 79.3055707021\n",
      "With8cluster : Within set sum of squared error = 74.9570367531\n",
      "With9cluster : Within set sum of squared error = 71.0354012011\n"
     ]
    }
   ],
   "source": [
    "for i in range(1,10):\n",
    "    clusters = KMeans.train(params_only,i,maxIterations=100,runs=100,initializationMode=\"random\")\n",
    "    WSSSE = (params_only.map(lambda point: error(point)).reduce(lambda x, y: x + y))\n",
    "    print (\"With\" + str(i)+ \"cluster : Within set sum of squared error = \" + str(WSSSE))\n",
    "    "
   ]
  },
  {
   "cell_type": "code",
   "execution_count": null,
   "metadata": {
    "collapsed": true
   },
   "outputs": [],
   "source": [
    "\n"
   ]
  },
  {
   "cell_type": "code",
   "execution_count": null,
   "metadata": {
    "collapsed": true
   },
   "outputs": [],
   "source": []
  }
 ],
 "metadata": {
  "kernelspec": {
   "display_name": "Python 3",
   "language": "python",
   "name": "python3"
  },
  "language_info": {
   "codemirror_mode": {
    "name": "ipython",
    "version": 3
   },
   "file_extension": ".py",
   "mimetype": "text/x-python",
   "name": "python",
   "nbconvert_exporter": "python",
   "pygments_lexer": "ipython3",
   "version": "3.6.4"
  }
 },
 "nbformat": 4,
 "nbformat_minor": 2
}
