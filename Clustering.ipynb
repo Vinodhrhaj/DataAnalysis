{
 "cells": [
  {
   "cell_type": "code",
   "execution_count": 358,
   "metadata": {
    "collapsed": true
   },
   "outputs": [],
   "source": [
    "from pyspark import SparkConf,SparkContext\n",
    "from pyspark import mllib as ml\n",
    "from pyspark.ml.feature import Tokenizer,HashingTF,IDF,StopWordsRemover,CountVectorizer\n",
    "from pyspark.sql import SparkSession,SQLContext,Row\n",
    "from pyspark.sql.functions import lower,regexp_replace,trim,split,avg,stddev\n",
    "import string\n",
    "import re\n",
    "from pyspark.sql.functions import udf\n",
    "from pyspark.sql.types import StringType,ArrayType,DoubleType,FloatType\n",
    "from pyspark.mllib.linalg import VectorUDT,Vectors"
   ]
  },
  {
   "cell_type": "code",
   "execution_count": null,
   "metadata": {},
   "outputs": [],
   "source": [
    "conf= SparkConf().setMaster(\"local\").setAppName(\"Exam\")\n",
    "sc = SparkContext(conf=conf)"
   ]
  },
  {
   "cell_type": "code",
   "execution_count": 360,
   "metadata": {
    "collapsed": true
   },
   "outputs": [],
   "source": [
    "spark = SparkSession(sc)"
   ]
  },
  {
   "cell_type": "code",
   "execution_count": 361,
   "metadata": {
    "collapsed": true
   },
   "outputs": [],
   "source": [
    "sqlcontext = SQLContext(sc)"
   ]
  },
  {
   "cell_type": "code",
   "execution_count": 362,
   "metadata": {
    "collapsed": true
   },
   "outputs": [],
   "source": [
    "data = spark.read.csv(\"C:/Users/sugan/Desktop/gun-violence-data_01-2013_03-2018.csv\",header=True)"
   ]
  },
  {
   "cell_type": "code",
   "execution_count": 363,
   "metadata": {},
   "outputs": [
    {
     "data": {
      "text/plain": [
       "['incident_id',\n",
       " 'date',\n",
       " 'state',\n",
       " 'city_or_county',\n",
       " 'address',\n",
       " 'n_killed',\n",
       " 'n_injured',\n",
       " 'incident_url',\n",
       " 'source_url',\n",
       " 'incident_url_fields_missing',\n",
       " 'congressional_district',\n",
       " 'gun_stolen',\n",
       " 'gun_type',\n",
       " 'incident_characteristics',\n",
       " 'latitude',\n",
       " 'location_description',\n",
       " 'longitude',\n",
       " 'n_guns_involved',\n",
       " 'notes',\n",
       " 'participant_age',\n",
       " 'participant_age_group',\n",
       " 'participant_gender',\n",
       " 'participant_name',\n",
       " 'participant_relationship',\n",
       " 'participant_status',\n",
       " 'participant_type',\n",
       " 'sources',\n",
       " 'state_house_district',\n",
       " 'state_senate_district']"
      ]
     },
     "execution_count": 363,
     "metadata": {},
     "output_type": "execute_result"
    }
   ],
   "source": [
    "data.columns"
   ]
  },
  {
   "cell_type": "code",
   "execution_count": 364,
   "metadata": {},
   "outputs": [
    {
     "name": "stdout",
     "output_type": "stream",
     "text": [
      "+----------+------------------+\n",
      "|     state|count(incident_id)|\n",
      "+----------+------------------+\n",
      "|  Illinois|             17556|\n",
      "|California|             16306|\n",
      "|   Florida|             15029|\n",
      "|     Texas|             13577|\n",
      "|      Ohio|             10244|\n",
      "+----------+------------------+\n",
      "only showing top 5 rows\n",
      "\n"
     ]
    }
   ],
   "source": [
    "#Q1\n",
    "data.groupby('state').agg({'incident_id':'count'}).sort('count(incident_id)',ascending=False).show(5)"
   ]
  },
  {
   "cell_type": "code",
   "execution_count": 365,
   "metadata": {
    "collapsed": true
   },
   "outputs": [],
   "source": [
    "data.registerTempTable(\"mytable\")"
   ]
  },
  {
   "cell_type": "code",
   "execution_count": 366,
   "metadata": {},
   "outputs": [],
   "source": [
    "data = data.withColumn('year',split(data['date'],'-')[0])"
   ]
  },
  {
   "cell_type": "code",
   "execution_count": 367,
   "metadata": {},
   "outputs": [
    {
     "name": "stdout",
     "output_type": "stream",
     "text": [
      "+----+------------------+\n",
      "|year|count(incident_id)|\n",
      "+----+------------------+\n",
      "|2017|             61401|\n",
      "|2016|             58763|\n",
      "|2015|             53579|\n",
      "|2014|             51854|\n",
      "|2018|             13802|\n",
      "+----+------------------+\n",
      "only showing top 5 rows\n",
      "\n"
     ]
    }
   ],
   "source": [
    "#Q2\n",
    "data.groupby('year').agg({'incident_id':'count'}).sort('count(incident_id)',ascending=False).show(5)"
   ]
  },
  {
   "cell_type": "code",
   "execution_count": 368,
   "metadata": {
    "collapsed": true
   },
   "outputs": [],
   "source": [
    "#Q3\n",
    "#KMeans clustering\n",
    "\n",
    "from pyspark.ml.feature import VectorAssembler\n",
    "from pyspark.mllib.clustering import KMeans\n",
    "from pyspark.ml.clustering import KMeans as KM"
   ]
  },
  {
   "cell_type": "code",
   "execution_count": 369,
   "metadata": {},
   "outputs": [],
   "source": [
    "kmeans = KM().setK(4).setSeed(1)"
   ]
  },
  {
   "cell_type": "code",
   "execution_count": 418,
   "metadata": {},
   "outputs": [],
   "source": [
    "dataset = data.select('latitude','longitude')"
   ]
  },
  {
   "cell_type": "code",
   "execution_count": 419,
   "metadata": {},
   "outputs": [
    {
     "name": "stdout",
     "output_type": "stream",
     "text": [
      "+--------+---------+\n",
      "|latitude|longitude|\n",
      "+--------+---------+\n",
      "| 40.3467| -79.8559|\n",
      "|  33.909| -118.333|\n",
      "| 41.4455| -82.1377|\n",
      "| 39.6518| -104.802|\n",
      "|  36.114| -79.9569|\n",
      "+--------+---------+\n",
      "only showing top 5 rows\n",
      "\n"
     ]
    }
   ],
   "source": [
    "dataset.show(5)"
   ]
  },
  {
   "cell_type": "code",
   "execution_count": 420,
   "metadata": {},
   "outputs": [],
   "source": [
    "dataset = dataset.withColumn(\"latitude\", dataset[\"latitude\"].cast(FloatType()))\n",
    "dataset = dataset.withColumn(\"longitude\", dataset[\"longitude\"].cast(FloatType()))"
   ]
  },
  {
   "cell_type": "code",
   "execution_count": 421,
   "metadata": {},
   "outputs": [],
   "source": [
    "dataset = dataset.dropna()"
   ]
  },
  {
   "cell_type": "code",
   "execution_count": 422,
   "metadata": {},
   "outputs": [],
   "source": [
    "# as_prob = udf(lambda x: DenseVector(x), VectorUDT())\n",
    "\n",
    "# dataset= dataset.withColumn(\"latitude\", as_prob(dataset[\"latitude\"]))\n",
    "# dataset= dataset.withColumn(\"longitude\", as_prob(dataset[\"longitude\"]))"
   ]
  },
  {
   "cell_type": "code",
   "execution_count": 423,
   "metadata": {
    "collapsed": true
   },
   "outputs": [],
   "source": [
    "from pyspark.ml.feature import StandardScaler"
   ]
  },
  {
   "cell_type": "code",
   "execution_count": 424,
   "metadata": {},
   "outputs": [],
   "source": [
    "assembler = VectorAssembler(\n",
    "    inputCols=[\"latitude\", \"longitude\"],\n",
    "    outputCol=\"features\")"
   ]
  },
  {
   "cell_type": "code",
   "execution_count": 425,
   "metadata": {},
   "outputs": [],
   "source": [
    "data_final = assembler.transform(dataset=dataset)"
   ]
  },
  {
   "cell_type": "code",
   "execution_count": 426,
   "metadata": {},
   "outputs": [
    {
     "name": "stdout",
     "output_type": "stream",
     "text": [
      "+--------+---------+--------------------+\n",
      "|latitude|longitude|            features|\n",
      "+--------+---------+--------------------+\n",
      "| 40.3467| -79.8559|[40.3466987609863...|\n",
      "|  33.909| -118.333|[33.9090003967285...|\n",
      "| 41.4455| -82.1377|[41.4454994201660...|\n",
      "| 39.6518| -104.802|[39.6517982482910...|\n",
      "|  36.114| -79.9569|[36.1139984130859...|\n",
      "+--------+---------+--------------------+\n",
      "only showing top 5 rows\n",
      "\n"
     ]
    }
   ],
   "source": [
    "data_final.show(5)\n",
    "data_final = data_final.drop('latitude','longitude')"
   ]
  },
  {
   "cell_type": "code",
   "execution_count": 427,
   "metadata": {
    "collapsed": true
   },
   "outputs": [],
   "source": [
    "scale = StandardScaler(inputCol='features',outputCol='scaledfeatures')"
   ]
  },
  {
   "cell_type": "code",
   "execution_count": 428,
   "metadata": {},
   "outputs": [],
   "source": [
    "fit = scale.fit(data_final)"
   ]
  },
  {
   "cell_type": "code",
   "execution_count": 429,
   "metadata": {},
   "outputs": [],
   "source": [
    "model_data = fit.transform(data_final).drop('features')"
   ]
  },
  {
   "cell_type": "code",
   "execution_count": 442,
   "metadata": {},
   "outputs": [],
   "source": [
    "import matplotlib.pyplot as plt\n",
    "%matplotlib inline"
   ]
  },
  {
   "cell_type": "code",
   "execution_count": 433,
   "metadata": {},
   "outputs": [],
   "source": [
    "Kmean = KM(k=4,maxIter=400,seed=1,featuresCol='scaledfeatures')"
   ]
  },
  {
   "cell_type": "code",
   "execution_count": 416,
   "metadata": {},
   "outputs": [],
   "source": [
    "test = model_data[0][1]"
   ]
  },
  {
   "cell_type": "code",
   "execution_count": 434,
   "metadata": {},
   "outputs": [],
   "source": [
    "model = Kmean.fit(model_data)"
   ]
  },
  {
   "cell_type": "code",
   "execution_count": 435,
   "metadata": {},
   "outputs": [
    {
     "name": "stdout",
     "output_type": "stream",
     "text": [
      "Within Set Sum of Squared Errors = 135931.75679442726\n",
      "Cluster Centers: \n",
      "[ 7.66587272 -8.2389716 ]\n",
      "[ 7.99388422 -5.70637296]\n",
      "[ 5.72123908 -6.15186387]\n",
      "[ 6.77571467 -6.00755338]\n"
     ]
    }
   ],
   "source": [
    "wssse = model.computeCost(model_data)\n",
    "print(\"Within Set Sum of Squared Errors = \" + str(wssse))\n",
    "\n",
    "# Shows the result.\n",
    "centers = model.clusterCenters()\n",
    "print(\"Cluster Centers: \")\n",
    "for center in centers:\n",
    "    print(center)"
   ]
  },
  {
   "cell_type": "code",
   "execution_count": 449,
   "metadata": {},
   "outputs": [],
   "source": [
    "prediction = model.transform(model_data).drop('scaledfeatures')"
   ]
  },
  {
   "cell_type": "code",
   "execution_count": 458,
   "metadata": {},
   "outputs": [],
   "source": [
    "pred = prediction.toPandas()['prediction'].values"
   ]
  },
  {
   "cell_type": "code",
   "execution_count": 460,
   "metadata": {},
   "outputs": [
    {
     "name": "stdout",
     "output_type": "stream",
     "text": [
      "['blue', 'orange', 'blue', 'orange', 'green', 'green', 'orange', 'purple', 'orange', 'blue']\n"
     ]
    },
    {
     "name": "stderr",
     "output_type": "stream",
     "text": [
      "C:\\Users\\sugan\\Anaconda3\\lib\\site-packages\\matplotlib\\axes\\_axes.py:545: UserWarning: No labelled objects found. Use label='...' kwarg on individual plots.\n",
      "  warnings.warn(\"No labelled objects found. \"\n"
     ]
    },
    {
     "data": {
      "image/png": "[encoded data removed]",
      "text/plain": [
       "<matplotlib.figure.Figure at 0x22becb4aa20>"
      ]
     },
     "metadata": {},
     "output_type": "display_data"
    }
   ],
   "source": [
    "colors=['orange','blue','purple','green']\n",
    "colored=[colors[k] for k in pred]\n",
    "print(colored[0:10])\n",
    "# plt.scatter(tocluster[4],tocluster[1],color=colored)\n",
    "for ci,c in enumerate(centers):\n",
    "    plt.plot(c[0], c[1], 'o',markersize=8, color='red', alpha=0.9)\n",
    "    \n",
    "plt.xlabel('x_values')\n",
    "plt.ylabel('y_values')\n",
    "plt.legend()\n",
    "plt.show()"
   ]
  },
  {
   "cell_type": "code",
   "execution_count": null,
   "metadata": {
    "collapsed": true
   },
   "outputs": [],
   "source": []
  }
 ],
 "metadata": {
  "kernelspec": {
   "display_name": "Python 3",
   "language": "python",
   "name": "python3"
  },
  "language_info": {
   "codemirror_mode": {
    "name": "ipython",
    "version": 3
   },
   "file_extension": ".py",
   "mimetype": "text/x-python",
   "name": "python",
   "nbconvert_exporter": "python",
   "pygments_lexer": "ipython3",
   "version": "3.6.1"
  }
 },
 "nbformat": 4,
 "nbformat_minor": 2
}
